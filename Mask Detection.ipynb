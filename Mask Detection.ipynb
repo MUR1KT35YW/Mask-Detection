{
 "cells": [
  {
   "cell_type": "markdown",
   "id": "2ac06089",
   "metadata": {},
   "source": [
    "## Getting Images"
   ]
  },
  {
   "cell_type": "code",
   "execution_count": 9,
   "id": "062e46a2",
   "metadata": {},
   "outputs": [],
   "source": [
    "#!pip install opencv-python \n",
    "#!pip install uuid\n",
    "# Import opencv\n",
    "import cv2 \n",
    "\n",
    "# Import uuid\n",
    "import uuid"
   ]
  },
  {
   "cell_type": "code",
   "execution_count": 10,
   "id": "f7513723",
   "metadata": {},
   "outputs": [],
   "source": [
    "\n",
    "#  Image capture\n",
    "cap = cv2.VideoCapture(0)\n",
    "width = int(cap.get(cv2.CAP_PROP_FRAME_WIDTH))\n",
    "height = int(cap.get(cv2.CAP_PROP_FRAME_HEIGHT))"
   ]
  },
  {
   "cell_type": "code",
   "execution_count": 11,
   "id": "00736353",
   "metadata": {},
   "outputs": [],
   "source": [
    "while True: \n",
    "    ret, frame = cap.read()\n",
    "    imgname = './images_captured_by_prince/Mask/{}.jpg'.format(str(uuid.uuid1()))\n",
    "    cv2.imwrite(imgname, frame)\n",
    "    cv2.imshow('frame', frame)\n",
    "    \n",
    "    if cv2.waitKey(1) & 0xFF == ord('q'):\n",
    "        break"
   ]
  },
  {
   "cell_type": "code",
   "execution_count": 12,
   "id": "5c68d25c",
   "metadata": {},
   "outputs": [],
   "source": [
    "cap.release()\n",
    "cv2.destroyAllWindows()"
   ]
  },
  {
   "cell_type": "markdown",
   "id": "fdedec24",
   "metadata": {},
   "source": [
    "## DataSet Ready\n"
   ]
  },
  {
   "cell_type": "markdown",
   "id": "02afc331",
   "metadata": {},
   "source": [
    "## create label Map\n"
   ]
  },
  {
   "cell_type": "code",
   "execution_count": 4,
   "id": "f809c7d9",
   "metadata": {},
   "outputs": [],
   "source": [
    "labels=[{'name': 'Mask','id':1},{'name': 'NoMask','id':2}]"
   ]
  },
  {
   "cell_type": "code",
   "execution_count": 5,
   "id": "92155097",
   "metadata": {},
   "outputs": [
    {
     "data": {
      "text/plain": [
       "[{'name': 'Mask', 'id': 1}, {'name': 'NoMask', 'id': 2}]"
      ]
     },
     "execution_count": 5,
     "metadata": {},
     "output_type": "execute_result"
    }
   ],
   "source": [
    "labels\n"
   ]
  },
  {
   "cell_type": "code",
   "execution_count": 10,
   "id": "c32704de",
   "metadata": {},
   "outputs": [],
   "source": [
    "## Paths\n",
    "WORKSPACE_PATH = 'workspace'\n",
    "ANNOTATION_PATH = WORKSPACE_PATH+'/annotations'\n",
    "SCRIPTS_PATH = 'scripts'\n",
    "IMAGE_PATH = WORKSPACE_PATH+'/images'\n"
   ]
  },
  {
   "cell_type": "code",
   "execution_count": 9,
   "id": "a7734751",
   "metadata": {},
   "outputs": [],
   "source": [
    "with open(ANNOTATION_PATH + '\\label_map.pbtxt', 'w') as f:\n",
    "    for label in labels:\n",
    "        f.write('item { \\n')\n",
    "        f.write('\\tname:\\'{}\\'\\n'.format(label['name']))\n",
    "        f.write('\\tid:{}\\n'.format(label['id']))\n",
    "        f.write('}\\n')"
   ]
  },
  {
   "cell_type": "markdown",
   "id": "da18ff33",
   "metadata": {},
   "source": [
    "##  Create TF record"
   ]
  },
  {
   "cell_type": "code",
   "execution_count": 16,
   "id": "2b0780fd",
   "metadata": {},
   "outputs": [
    {
     "name": "stderr",
     "output_type": "stream",
     "text": [
      "Traceback (most recent call last):\n",
      "  File \"C:\\Users\\Prince\\OneDrive\\Desktop\\mask_detection\\scripts\\generate_tfrecord.py\", line 61, in <module>\n",
      "    label_map = label_map_util.load_labelmap(args.labels_path)\n",
      "  File \"C:\\Users\\Prince\\OneDrive\\Desktop\\mask_detection\\mask_detection\\lib\\site-packages\\object_detection\\utils\\label_map_util.py\", line 132, in load_labelmap\n",
      "    with tf.gfile.GFile(path, 'r') as fid:\n",
      "AttributeError: module 'tensorflow' has no attribute 'gfile'\n",
      "Traceback (most recent call last):\n",
      "  File \"C:\\Users\\Prince\\OneDrive\\Desktop\\mask_detection\\scripts\\generate_tfrecord.py\", line 61, in <module>\n",
      "    label_map = label_map_util.load_labelmap(args.labels_path)\n",
      "  File \"C:\\Users\\Prince\\OneDrive\\Desktop\\mask_detection\\mask_detection\\lib\\site-packages\\object_detection\\utils\\label_map_util.py\", line 132, in load_labelmap\n",
      "    with tf.gfile.GFile(path, 'r') as fid:\n",
      "AttributeError: module 'tensorflow' has no attribute 'gfile'\n"
     ]
    }
   ],
   "source": [
    "!python {SCRIPTS_PATH + '/generate_tfrecord.py'} -x {IMAGE_PATH + '/train'} -l {ANNOTATION_PATH + '/label_map.pbtxt'} -o {ANNOTATION_PATH + '/train.record'}\n",
    "!python {SCRIPTS_PATH + '/generate_tfrecord.py'} -x{IMAGE_PATH + '/test'} -l {ANNOTATION_PATH + '/label_map.pbtxt'} -o {ANNOTATION_PATH + '/test.record'}"
   ]
  },
  {
   "cell_type": "code",
   "execution_count": null,
   "id": "32737da9",
   "metadata": {},
   "outputs": [],
   "source": []
  }
 ],
 "metadata": {
  "kernelspec": {
   "display_name": "mask_detection",
   "language": "python",
   "name": "mask_detection"
  },
  "language_info": {
   "codemirror_mode": {
    "name": "ipython",
    "version": 3
   },
   "file_extension": ".py",
   "mimetype": "text/x-python",
   "name": "python",
   "nbconvert_exporter": "python",
   "pygments_lexer": "ipython3",
   "version": "3.9.7"
  }
 },
 "nbformat": 4,
 "nbformat_minor": 5
}
